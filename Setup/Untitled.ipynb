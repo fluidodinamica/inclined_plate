{
 "cells": [
  {
   "cell_type": "markdown",
   "id": "98072460-5f31-4fd1-a82d-f7245ff3660f",
   "metadata": {
    "tags": []
   },
   "source": [
    "#### 260/3.6\n"
   ]
  },
  {
   "cell_type": "code",
   "execution_count": 2,
   "id": "97320ffb-e8ba-4159-ba7d-68281839d945",
   "metadata": {
    "tags": []
   },
   "outputs": [
    {
     "data": {
      "text/plain": [
       "1411.2"
      ]
     },
     "execution_count": 2,
     "metadata": {},
     "output_type": "execute_result"
    }
   ],
   "source": [
    "70**2*1.2/2*1.2*.4"
   ]
  },
  {
   "cell_type": "code",
   "execution_count": 3,
   "id": "ee8300a8-e761-46fc-b2a8-86d9a0fb6670",
   "metadata": {
    "tags": []
   },
   "outputs": [
    {
     "data": {
      "text/plain": [
       "1175.8333333333335"
      ]
     },
     "execution_count": 3,
     "metadata": {},
     "output_type": "execute_result"
    }
   ],
   "source": [
    "1411/1.2"
   ]
  },
  {
   "cell_type": "code",
   "execution_count": 7,
   "id": "cd4fa6e3-7699-4afb-af0d-fec94b96d136",
   "metadata": {
    "tags": []
   },
   "outputs": [
    {
     "data": {
      "text/plain": [
       "53333.333333333336"
      ]
     },
     "execution_count": 7,
     "metadata": {},
     "output_type": "execute_result"
    }
   ],
   "source": [
    "40*.02/1.5e-5"
   ]
  },
  {
   "cell_type": "code",
   "execution_count": null,
   "id": "fcbda5a8-50f8-4d7a-8c8e-25809e6876f2",
   "metadata": {},
   "outputs": [],
   "source": []
  }
 ],
 "metadata": {
  "kernelspec": {
   "display_name": "Python 3 (ipykernel)",
   "language": "python",
   "name": "python3"
  },
  "language_info": {
   "codemirror_mode": {
    "name": "ipython",
    "version": 3
   },
   "file_extension": ".py",
   "mimetype": "text/x-python",
   "name": "python",
   "nbconvert_exporter": "python",
   "pygments_lexer": "ipython3",
   "version": "3.11.5"
  }
 },
 "nbformat": 4,
 "nbformat_minor": 5
}
