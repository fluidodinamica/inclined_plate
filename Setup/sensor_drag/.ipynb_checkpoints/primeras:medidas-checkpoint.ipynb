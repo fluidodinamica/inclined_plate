{
 "cells": [
  {
   "cell_type": "code",
   "execution_count": 1,
   "id": "2b5e9ef9-4fc9-4038-bf6f-762965341b29",
   "metadata": {},
   "outputs": [],
   "source": [
    "import serial,socket,os,glob\n",
    "import matplotlib.pyplot as plt\n",
    "import numpy as np\n",
    "import pandas as pd\n",
    "import time, threading,sys\n",
    "colores = (plt.rcParams['axes.prop_cycle'].by_key()['color'])\n",
    "from serial import Serial"
   ]
  },
  {
   "cell_type": "code",
   "execution_count": 3,
   "id": "e02c5455-aacd-4b5b-8aa6-49a828336ed5",
   "metadata": {},
   "outputs": [],
   "source": [
    "port = '/dev/ttyUSB0'\n",
    "global running\n",
    "\n",
    "\n",
    "arduino = Serial(port, 115200)\n",
    "#trash = arduino.readlines(10)\n",
    "linea = arduino.readline()\n",
    "arduino.close()\n",
    "running = True"
   ]
  },
  {
   "cell_type": "code",
   "execution_count": 21,
   "id": "e6e75f15-e678-4594-8776-c5257edebbc7",
   "metadata": {},
   "outputs": [],
   "source": [
    "def lee_arduino(arduino):\n",
    "    linea0 = arduino.readline()\n",
    "    linea = arduino.readline()\n",
    "    linea3 = arduino.readline()\n",
    "    linea4 = arduino.readline()\n",
    "    linea5 = arduino.readline()\n",
    "\n",
    "    return linea"
   ]
  },
  {
   "cell_type": "code",
   "execution_count": 26,
   "id": "b6a64866-384c-44bc-b682-a4b72a95c29d",
   "metadata": {},
   "outputs": [],
   "source": [
    "fileout = 'referencia_0000_a'\n",
    "arduino = serial.Serial(port, 115200)\n",
    "\n",
    "original_stdout = sys.stdout # Save a reference to the original standard output\n",
    "\n",
    "out1 = lee_arduino(arduino)\n",
    "with open(fileout, 'w') as archivo:\n",
    "    for i in range(50):        \n",
    "        sys.stdout = archivo # Change the standard output to the file we created.\n",
    "        time.sleep(0.001)\n",
    "        out1 = lee_arduino(arduino)\n",
    "        texto = str(out1.decode('ascii')).strip().split('\\r')[0]\n",
    "        texto  = float(texto.split('mV')[0])\n",
    "        print(texto)\n",
    "        sys.stdout = original_stdout # Reset the standard output to its original value\n",
    "        #out1 = lee_arduino(arduino)\n",
    "        #out1 = lee_arduino(arduino)\n",
    "arduino.close()\n",
    "archivo.close()\n",
    "A = pd.read_csv(fileout,names = ['Fzax[mV]'])"
   ]
  },
  {
   "cell_type": "code",
   "execution_count": 29,
   "id": "233c88bc-682b-48fa-a18b-4b525682be55",
   "metadata": {},
   "outputs": [
    {
     "data": {
      "text/plain": [
       "-0.01699"
      ]
     },
     "execution_count": 29,
     "metadata": {},
     "output_type": "execute_result"
    }
   ],
   "source": []
  },
  {
   "cell_type": "code",
   "execution_count": null,
   "id": "4e88b107-b229-4c23-a3b1-a0b0a196a3ab",
   "metadata": {},
   "outputs": [],
   "source": []
  }
 ],
 "metadata": {
  "kernelspec": {
   "display_name": "Python 3 (ipykernel)",
   "language": "python",
   "name": "python3"
  },
  "language_info": {
   "codemirror_mode": {
    "name": "ipython",
    "version": 3
   },
   "file_extension": ".py",
   "mimetype": "text/x-python",
   "name": "python",
   "nbconvert_exporter": "python",
   "pygments_lexer": "ipython3",
   "version": "3.12.2"
  }
 },
 "nbformat": 4,
 "nbformat_minor": 5
}
