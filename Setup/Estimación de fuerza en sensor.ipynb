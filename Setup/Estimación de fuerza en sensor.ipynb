{
 "cells": [
  {
   "cell_type": "code",
   "execution_count": 1,
   "id": "c9367d4a",
   "metadata": {},
   "outputs": [
    {
     "name": "stdout",
     "output_type": "stream",
     "text": [
      "Using matplotlib backend: Qt5Agg\n"
     ]
    }
   ],
   "source": [
    "#importo librerias que voy a implementar\n",
    "%matplotlib \n",
    "import numpy as np\n",
    "# para cálculos algebraicos\n",
    "import matplotlib.pyplot as plt\n",
    "#para realizar gráficos\n",
    "import pandas as pd\n",
    "#para display en cuadros\n",
    "import CoolProp.CoolProp as cp\n",
    "#para disponer de las propiedades de los fluidos en cuestión\n",
    "import ht\n",
    "import fluids\n",
    "from IPython.display import Latex"
   ]
  },
  {
   "cell_type": "code",
   "execution_count": 2,
   "id": "87f0e9f1",
   "metadata": {},
   "outputs": [
    {
     "name": "stdout",
     "output_type": "stream",
     "text": [
      "Número de Reynolds utilizado por Eiffel Re=  102442.34185204051\n"
     ]
    }
   ],
   "source": [
    "# Propiedades físicas del aire \n",
    "# Busco determinar Reynolds de la experiencia de Eiffel\n",
    "\n",
    "h=15 /100 #m\n",
    "P=101325 #pa\n",
    "T=15 + 273 #K\n",
    "U_aire =10 #m/s\n",
    "\n",
    "rho_aire=cp.PropsSI(\"D\",\"T\",T,\"P\",P,\"air\")\n",
    "#aclaración ellos toman rho = 1.225 \n",
    "\n",
    "mu_aire=cp.PropsSI(\"V\",\"T\",T,\"P\",P,\"air\")\n",
    "\n",
    "nu_aire=mu_aire/rho_aire #m2/s\n",
    "Re= U_aire*h/nu_aire\n",
    "\n",
    "print(\"Número de Reynolds utilizado por Eiffel Re= \", Re)\n",
    "\n",
    "\n",
    "\n",
    "#Propiedades del agua\n",
    "rho_agua=cp.PropsSI(\"D\",\"T\",T,\"P\",P,\"water\")\n",
    "\n",
    "mu_agua=cp.PropsSI(\"V\",\"T\",T,\"P\",P,\"water\")\n",
    "\n",
    "nu_agua=mu_agua/rho_agua #m2/s\n",
    "\n"
   ]
  },
  {
   "cell_type": "code",
   "execution_count": 3,
   "id": "49bd518e",
   "metadata": {},
   "outputs": [
    {
     "data": {
      "text/html": [
       "<div>\n",
       "<style scoped>\n",
       "    .dataframe tbody tr th:only-of-type {\n",
       "        vertical-align: middle;\n",
       "    }\n",
       "\n",
       "    .dataframe tbody tr th {\n",
       "        vertical-align: top;\n",
       "    }\n",
       "\n",
       "    .dataframe thead th {\n",
       "        text-align: right;\n",
       "    }\n",
       "</style>\n",
       "<table border=\"1\" class=\"dataframe\">\n",
       "  <thead>\n",
       "    <tr style=\"text-align: right;\">\n",
       "      <th></th>\n",
       "      <th>Placas</th>\n",
       "      <th>Aspect Ratio [h/L]</th>\n",
       "      <th>Area [m2]</th>\n",
       "    </tr>\n",
       "  </thead>\n",
       "  <tbody>\n",
       "    <tr>\n",
       "      <th>0</th>\n",
       "      <td>33x33</td>\n",
       "      <td>1.0</td>\n",
       "      <td>0.1089</td>\n",
       "    </tr>\n",
       "    <tr>\n",
       "      <th>1</th>\n",
       "      <td>30x20</td>\n",
       "      <td>1.5</td>\n",
       "      <td>0.0600</td>\n",
       "    </tr>\n",
       "    <tr>\n",
       "      <th>2</th>\n",
       "      <td>30x15</td>\n",
       "      <td>2.0</td>\n",
       "      <td>0.0450</td>\n",
       "    </tr>\n",
       "  </tbody>\n",
       "</table>\n",
       "</div>"
      ],
      "text/plain": [
       "  Placas  Aspect Ratio [h/L]  Area [m2]\n",
       "0  33x33                 1.0     0.1089\n",
       "1  30x20                 1.5     0.0600\n",
       "2  30x15                 2.0     0.0450"
      ]
     },
     "execution_count": 3,
     "metadata": {},
     "output_type": "execute_result"
    }
   ],
   "source": [
    "#DATOS CONSTRUCTIVOS\n",
    "\n",
    "L=0.3 #m\n",
    "aspect_ratio=[1,1.5,2]\n",
    "\n",
    "Areas=[0.33**2]\n",
    "Long_h=[0.33]\n",
    "\n",
    "\n",
    "for a in aspect_ratio[1:]:\n",
    "    h=L/a\n",
    "    Area=L*h\n",
    "    Areas.append(Area)\n",
    "    Long_h.append(h)\n",
    "    \n",
    "d={\"Placas\":[\"33x33\",\"30x20\",\"30x15\"],\"Aspect Ratio [h/L]\":aspect_ratio,\"Area [m2]\":Areas}\n",
    "df=pd.DataFrame(data=d)\n",
    "df\n"
   ]
  },
  {
   "cell_type": "markdown",
   "id": "130caefc",
   "metadata": {},
   "source": [
    "## Placa 30x20: Estimación de Fuerza"
   ]
  },
  {
   "cell_type": "code",
   "execution_count": 4,
   "id": "e69c3bbf",
   "metadata": {
    "scrolled": false
   },
   "outputs": [
    {
     "data": {
      "text/html": [
       "<div>\n",
       "<style scoped>\n",
       "    .dataframe tbody tr th:only-of-type {\n",
       "        vertical-align: middle;\n",
       "    }\n",
       "\n",
       "    .dataframe tbody tr th {\n",
       "        vertical-align: top;\n",
       "    }\n",
       "\n",
       "    .dataframe thead th {\n",
       "        text-align: right;\n",
       "    }\n",
       "</style>\n",
       "<table border=\"1\" class=\"dataframe\">\n",
       "  <thead>\n",
       "    <tr style=\"text-align: right;\">\n",
       "      <th></th>\n",
       "      <th>Velocidades experimentales</th>\n",
       "      <th>Reynolds</th>\n",
       "      <th>Fuerza estimada [kg]</th>\n",
       "    </tr>\n",
       "  </thead>\n",
       "  <tbody>\n",
       "    <tr>\n",
       "      <th>0</th>\n",
       "      <td>0.2</td>\n",
       "      <td>34993</td>\n",
       "      <td>0.156598</td>\n",
       "    </tr>\n",
       "    <tr>\n",
       "      <th>1</th>\n",
       "      <td>0.3</td>\n",
       "      <td>52489</td>\n",
       "      <td>0.352345</td>\n",
       "    </tr>\n",
       "    <tr>\n",
       "      <th>2</th>\n",
       "      <td>0.4</td>\n",
       "      <td>69985</td>\n",
       "      <td>0.626390</td>\n",
       "    </tr>\n",
       "    <tr>\n",
       "      <th>3</th>\n",
       "      <td>0.5</td>\n",
       "      <td>87481</td>\n",
       "      <td>0.978735</td>\n",
       "    </tr>\n",
       "    <tr>\n",
       "      <th>4</th>\n",
       "      <td>0.6</td>\n",
       "      <td>104978</td>\n",
       "      <td>1.409378</td>\n",
       "    </tr>\n",
       "  </tbody>\n",
       "</table>\n",
       "</div>"
      ],
      "text/plain": [
       "   Velocidades experimentales Reynolds  Fuerza estimada [kg]\n",
       "0                         0.2    34993              0.156598\n",
       "1                         0.3    52489              0.352345\n",
       "2                         0.4    69985              0.626390\n",
       "3                         0.5    87481              0.978735\n",
       "4                         0.6   104978              1.409378"
      ]
     },
     "execution_count": 4,
     "metadata": {},
     "output_type": "execute_result"
    }
   ],
   "source": [
    "#FUERZA ESTIMADA PlACA 30x20\n",
    "\n",
    "\n",
    "u_exp=[0.2,0.3,0.4,0.5,0.6] #m/s\n",
    "Cd=1.28\n",
    "rho=1000 #kg/m3\n",
    "\n",
    "Reynolds=[]\n",
    "F_estimada=[]\n",
    "for u in u_exp:\n",
    "    Re=u*Long_h[1]/nu_agua\n",
    "    Reynolds.append(Re)\n",
    "    F=1/2*rho_agua*u**2*Areas[1]*Cd/9.8 #kg\n",
    "    F_estimada.append(F)\n",
    "    \n",
    "#F_estimada=['%.3f' % elem for elem in F_estimada]\n",
    "Reynolds=['%.0f' % elem for elem in Reynolds]\n",
    "\n",
    "d={\"Velocidades experimentales\":u_exp,\"Reynolds\":Reynolds, \"Fuerza estimada [kg]\":F_estimada}\n",
    "df=pd.DataFrame(data=d)\n",
    "df\n",
    "\n"
   ]
  },
  {
   "cell_type": "markdown",
   "id": "7a643e44",
   "metadata": {},
   "source": [
    "## Fuerza sensor: Equilibrio de Momentos\n",
    "\n",
    "$$\\sum M^{o} = 0$$\n",
    "\n",
    "$$F_{drag} \\times 1901\\:mm - F_{sensor} \\times 177.67\\: mm = 0$$\n",
    "\n",
    "$$ F_{sensor} = 10.7 \\times F_{drag}$$ "
   ]
  },
  {
   "cell_type": "code",
   "execution_count": 5,
   "id": "5e41713a",
   "metadata": {
    "scrolled": true
   },
   "outputs": [
    {
     "name": "stdout",
     "output_type": "stream",
     "text": [
      "DATOS PARA PLACA 30X20\n"
     ]
    },
    {
     "data": {
      "text/html": [
       "<div>\n",
       "<style scoped>\n",
       "    .dataframe tbody tr th:only-of-type {\n",
       "        vertical-align: middle;\n",
       "    }\n",
       "\n",
       "    .dataframe tbody tr th {\n",
       "        vertical-align: top;\n",
       "    }\n",
       "\n",
       "    .dataframe thead th {\n",
       "        text-align: right;\n",
       "    }\n",
       "</style>\n",
       "<table border=\"1\" class=\"dataframe\">\n",
       "  <thead>\n",
       "    <tr style=\"text-align: right;\">\n",
       "      <th></th>\n",
       "      <th>Velocidades experimentales</th>\n",
       "      <th>Reynolds</th>\n",
       "      <th>Fuerza estimada [kg]</th>\n",
       "      <th>Fuerza Sensor</th>\n",
       "    </tr>\n",
       "  </thead>\n",
       "  <tbody>\n",
       "    <tr>\n",
       "      <th>0</th>\n",
       "      <td>0.2</td>\n",
       "      <td>34993</td>\n",
       "      <td>0.157</td>\n",
       "      <td>1.68</td>\n",
       "    </tr>\n",
       "    <tr>\n",
       "      <th>1</th>\n",
       "      <td>0.3</td>\n",
       "      <td>52489</td>\n",
       "      <td>0.352</td>\n",
       "      <td>3.77</td>\n",
       "    </tr>\n",
       "    <tr>\n",
       "      <th>2</th>\n",
       "      <td>0.4</td>\n",
       "      <td>69985</td>\n",
       "      <td>0.626</td>\n",
       "      <td>6.70</td>\n",
       "    </tr>\n",
       "    <tr>\n",
       "      <th>3</th>\n",
       "      <td>0.5</td>\n",
       "      <td>87481</td>\n",
       "      <td>0.979</td>\n",
       "      <td>10.47</td>\n",
       "    </tr>\n",
       "    <tr>\n",
       "      <th>4</th>\n",
       "      <td>0.6</td>\n",
       "      <td>104978</td>\n",
       "      <td>1.409</td>\n",
       "      <td>15.08</td>\n",
       "    </tr>\n",
       "  </tbody>\n",
       "</table>\n",
       "</div>"
      ],
      "text/plain": [
       "   Velocidades experimentales Reynolds Fuerza estimada [kg] Fuerza Sensor\n",
       "0                         0.2    34993                0.157          1.68\n",
       "1                         0.3    52489                0.352          3.77\n",
       "2                         0.4    69985                0.626          6.70\n",
       "3                         0.5    87481                0.979         10.47\n",
       "4                         0.6   104978                1.409         15.08"
      ]
     },
     "execution_count": 5,
     "metadata": {},
     "output_type": "execute_result"
    }
   ],
   "source": [
    "#PASAJE A FUERZA SENSOR\n",
    "\n",
    "Amp= 1901/177.67  #Factor de amplificación de fuerza \n",
    "\n",
    "F_sensor=[]\n",
    "\n",
    "for F in F_estimada:\n",
    "    F_s= Amp * F\n",
    "    F_sensor.append(F_s)\n",
    "\n",
    "F_sensor=['%.2f' % elem for elem in F_sensor]\n",
    "F_estimada=['%.3f' % elem for elem in F_estimada]\n",
    "\n",
    "d={\"Velocidades experimentales\":u_exp,\"Reynolds\":Reynolds, \"Fuerza estimada [kg]\":F_estimada, \"Fuerza Sensor\":F_sensor}\n",
    "df=pd.DataFrame(data=d)\n",
    "print(\"DATOS PARA PLACA 30X20\")\n",
    "df"
   ]
  },
  {
   "cell_type": "code",
   "execution_count": 6,
   "id": "5c2c8dfa",
   "metadata": {
    "scrolled": true
   },
   "outputs": [
    {
     "data": {
      "image/png": "[encoded data removed]",
      "text/plain": [
       "<IPython.core.display.Image object>"
      ]
     },
     "execution_count": 6,
     "metadata": {},
     "output_type": "execute_result"
    }
   ],
   "source": [
    "from IPython.display import Image\n",
    "Image(filename=r\"C:\\Users\\Lucas\\Desktop\\FIUBA\\67.00 TESIS GIT\\3D setup_Model\\Torques.png\")"
   ]
  }
 ],
 "metadata": {
  "kernelspec": {
   "display_name": "Python 3",
   "language": "python",
   "name": "python3"
  },
  "language_info": {
   "codemirror_mode": {
    "name": "ipython",
    "version": 3
   },
   "file_extension": ".py",
   "mimetype": "text/x-python",
   "name": "python",
   "nbconvert_exporter": "python",
   "pygments_lexer": "ipython3",
   "version": "3.8.8"
  }
 },
 "nbformat": 4,
 "nbformat_minor": 5
}
